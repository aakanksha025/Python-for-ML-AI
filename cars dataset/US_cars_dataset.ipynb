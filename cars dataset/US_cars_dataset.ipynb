{
  "nbformat": 4,
  "nbformat_minor": 0,
  "metadata": {
    "colab": {
      "name": "US_cars_dataset",
      "provenance": [],
      "collapsed_sections": []
    },
    "kernelspec": {
      "name": "python3",
      "display_name": "Python 3"
    },
    "language_info": {
      "name": "python"
    }
  },
  "cells": [
    {
      "cell_type": "code",
      "metadata": {
        "id": "VMEYoY-oAe3b"
      },
      "source": [
        "import pandas as pd"
      ],
      "execution_count": 52,
      "outputs": []
    },
    {
      "cell_type": "code",
      "metadata": {
        "id": "KMftr7lSA2iy"
      },
      "source": [
        "df = pd.read_csv('USA_cars_datasets.csv')"
      ],
      "execution_count": 53,
      "outputs": []
    },
    {
      "cell_type": "code",
      "metadata": {
        "id": "-a1kX-MvA23o",
        "colab": {
          "base_uri": "https://localhost:8080/",
          "height": 423
        },
        "outputId": "b0a46877-299a-4ea5-ee83-869d25e435a5"
      },
      "source": [
        "df"
      ],
      "execution_count": 54,
      "outputs": [
        {
          "output_type": "execute_result",
          "data": {
            "text/html": [
              "<div>\n",
              "<style scoped>\n",
              "    .dataframe tbody tr th:only-of-type {\n",
              "        vertical-align: middle;\n",
              "    }\n",
              "\n",
              "    .dataframe tbody tr th {\n",
              "        vertical-align: top;\n",
              "    }\n",
              "\n",
              "    .dataframe thead th {\n",
              "        text-align: right;\n",
              "    }\n",
              "</style>\n",
              "<table border=\"1\" class=\"dataframe\">\n",
              "  <thead>\n",
              "    <tr style=\"text-align: right;\">\n",
              "      <th></th>\n",
              "      <th>Unnamed: 0</th>\n",
              "      <th>price</th>\n",
              "      <th>brand</th>\n",
              "      <th>model</th>\n",
              "      <th>year</th>\n",
              "      <th>title_status</th>\n",
              "      <th>mileage</th>\n",
              "      <th>color</th>\n",
              "      <th>vin</th>\n",
              "      <th>lot</th>\n",
              "      <th>state</th>\n",
              "      <th>country</th>\n",
              "      <th>condition</th>\n",
              "    </tr>\n",
              "  </thead>\n",
              "  <tbody>\n",
              "    <tr>\n",
              "      <th>0</th>\n",
              "      <td>0</td>\n",
              "      <td>6300</td>\n",
              "      <td>toyota</td>\n",
              "      <td>cruiser</td>\n",
              "      <td>2008</td>\n",
              "      <td>clean vehicle</td>\n",
              "      <td>274117.0</td>\n",
              "      <td>black</td>\n",
              "      <td>jtezu11f88k007763</td>\n",
              "      <td>159348797</td>\n",
              "      <td>new jersey</td>\n",
              "      <td>usa</td>\n",
              "      <td>10 days left</td>\n",
              "    </tr>\n",
              "    <tr>\n",
              "      <th>1</th>\n",
              "      <td>1</td>\n",
              "      <td>2899</td>\n",
              "      <td>ford</td>\n",
              "      <td>se</td>\n",
              "      <td>2011</td>\n",
              "      <td>clean vehicle</td>\n",
              "      <td>190552.0</td>\n",
              "      <td>silver</td>\n",
              "      <td>2fmdk3gc4bbb02217</td>\n",
              "      <td>166951262</td>\n",
              "      <td>tennessee</td>\n",
              "      <td>usa</td>\n",
              "      <td>6 days left</td>\n",
              "    </tr>\n",
              "    <tr>\n",
              "      <th>2</th>\n",
              "      <td>2</td>\n",
              "      <td>5350</td>\n",
              "      <td>dodge</td>\n",
              "      <td>mpv</td>\n",
              "      <td>2018</td>\n",
              "      <td>clean vehicle</td>\n",
              "      <td>39590.0</td>\n",
              "      <td>silver</td>\n",
              "      <td>3c4pdcgg5jt346413</td>\n",
              "      <td>167655728</td>\n",
              "      <td>georgia</td>\n",
              "      <td>usa</td>\n",
              "      <td>2 days left</td>\n",
              "    </tr>\n",
              "    <tr>\n",
              "      <th>3</th>\n",
              "      <td>3</td>\n",
              "      <td>25000</td>\n",
              "      <td>ford</td>\n",
              "      <td>door</td>\n",
              "      <td>2014</td>\n",
              "      <td>clean vehicle</td>\n",
              "      <td>64146.0</td>\n",
              "      <td>blue</td>\n",
              "      <td>1ftfw1et4efc23745</td>\n",
              "      <td>167753855</td>\n",
              "      <td>virginia</td>\n",
              "      <td>usa</td>\n",
              "      <td>22 hours left</td>\n",
              "    </tr>\n",
              "    <tr>\n",
              "      <th>4</th>\n",
              "      <td>4</td>\n",
              "      <td>27700</td>\n",
              "      <td>chevrolet</td>\n",
              "      <td>1500</td>\n",
              "      <td>2018</td>\n",
              "      <td>clean vehicle</td>\n",
              "      <td>6654.0</td>\n",
              "      <td>red</td>\n",
              "      <td>3gcpcrec2jg473991</td>\n",
              "      <td>167763266</td>\n",
              "      <td>florida</td>\n",
              "      <td>usa</td>\n",
              "      <td>22 hours left</td>\n",
              "    </tr>\n",
              "    <tr>\n",
              "      <th>...</th>\n",
              "      <td>...</td>\n",
              "      <td>...</td>\n",
              "      <td>...</td>\n",
              "      <td>...</td>\n",
              "      <td>...</td>\n",
              "      <td>...</td>\n",
              "      <td>...</td>\n",
              "      <td>...</td>\n",
              "      <td>...</td>\n",
              "      <td>...</td>\n",
              "      <td>...</td>\n",
              "      <td>...</td>\n",
              "      <td>...</td>\n",
              "    </tr>\n",
              "    <tr>\n",
              "      <th>2494</th>\n",
              "      <td>2494</td>\n",
              "      <td>7800</td>\n",
              "      <td>nissan</td>\n",
              "      <td>versa</td>\n",
              "      <td>2019</td>\n",
              "      <td>clean vehicle</td>\n",
              "      <td>23609.0</td>\n",
              "      <td>red</td>\n",
              "      <td>3n1cn7ap9kl880319</td>\n",
              "      <td>167722715</td>\n",
              "      <td>california</td>\n",
              "      <td>usa</td>\n",
              "      <td>1 days left</td>\n",
              "    </tr>\n",
              "    <tr>\n",
              "      <th>2495</th>\n",
              "      <td>2495</td>\n",
              "      <td>9200</td>\n",
              "      <td>nissan</td>\n",
              "      <td>versa</td>\n",
              "      <td>2018</td>\n",
              "      <td>clean vehicle</td>\n",
              "      <td>34553.0</td>\n",
              "      <td>silver</td>\n",
              "      <td>3n1cn7ap5jl884088</td>\n",
              "      <td>167762225</td>\n",
              "      <td>florida</td>\n",
              "      <td>usa</td>\n",
              "      <td>21 hours left</td>\n",
              "    </tr>\n",
              "    <tr>\n",
              "      <th>2496</th>\n",
              "      <td>2496</td>\n",
              "      <td>9200</td>\n",
              "      <td>nissan</td>\n",
              "      <td>versa</td>\n",
              "      <td>2018</td>\n",
              "      <td>clean vehicle</td>\n",
              "      <td>31594.0</td>\n",
              "      <td>silver</td>\n",
              "      <td>3n1cn7ap9jl884191</td>\n",
              "      <td>167762226</td>\n",
              "      <td>florida</td>\n",
              "      <td>usa</td>\n",
              "      <td>21 hours left</td>\n",
              "    </tr>\n",
              "    <tr>\n",
              "      <th>2497</th>\n",
              "      <td>2497</td>\n",
              "      <td>9200</td>\n",
              "      <td>nissan</td>\n",
              "      <td>versa</td>\n",
              "      <td>2018</td>\n",
              "      <td>clean vehicle</td>\n",
              "      <td>32557.0</td>\n",
              "      <td>black</td>\n",
              "      <td>3n1cn7ap3jl883263</td>\n",
              "      <td>167762227</td>\n",
              "      <td>florida</td>\n",
              "      <td>usa</td>\n",
              "      <td>2 days left</td>\n",
              "    </tr>\n",
              "    <tr>\n",
              "      <th>2498</th>\n",
              "      <td>2498</td>\n",
              "      <td>9200</td>\n",
              "      <td>nissan</td>\n",
              "      <td>versa</td>\n",
              "      <td>2018</td>\n",
              "      <td>clean vehicle</td>\n",
              "      <td>31371.0</td>\n",
              "      <td>silver</td>\n",
              "      <td>3n1cn7ap4jl884311</td>\n",
              "      <td>167762228</td>\n",
              "      <td>florida</td>\n",
              "      <td>usa</td>\n",
              "      <td>21 hours left</td>\n",
              "    </tr>\n",
              "  </tbody>\n",
              "</table>\n",
              "<p>2499 rows × 13 columns</p>\n",
              "</div>"
            ],
            "text/plain": [
              "      Unnamed: 0  price      brand  ...       state  country      condition\n",
              "0              0   6300     toyota  ...  new jersey      usa   10 days left\n",
              "1              1   2899       ford  ...   tennessee      usa    6 days left\n",
              "2              2   5350      dodge  ...     georgia      usa    2 days left\n",
              "3              3  25000       ford  ...    virginia      usa  22 hours left\n",
              "4              4  27700  chevrolet  ...     florida      usa  22 hours left\n",
              "...          ...    ...        ...  ...         ...      ...            ...\n",
              "2494        2494   7800     nissan  ...  california      usa    1 days left\n",
              "2495        2495   9200     nissan  ...     florida      usa  21 hours left\n",
              "2496        2496   9200     nissan  ...     florida      usa  21 hours left\n",
              "2497        2497   9200     nissan  ...     florida      usa    2 days left\n",
              "2498        2498   9200     nissan  ...     florida      usa  21 hours left\n",
              "\n",
              "[2499 rows x 13 columns]"
            ]
          },
          "metadata": {},
          "execution_count": 54
        }
      ]
    },
    {
      "cell_type": "code",
      "metadata": {
        "id": "U9byRdtdA2ua",
        "colab": {
          "base_uri": "https://localhost:8080/"
        },
        "outputId": "8746e1a7-a535-4a21-e7c1-0dd41e9a6007"
      },
      "source": [
        "df.isnull().sum()"
      ],
      "execution_count": 55,
      "outputs": [
        {
          "output_type": "execute_result",
          "data": {
            "text/plain": [
              "Unnamed: 0      0\n",
              "price           0\n",
              "brand           0\n",
              "model           0\n",
              "year            0\n",
              "title_status    0\n",
              "mileage         0\n",
              "color           0\n",
              "vin             0\n",
              "lot             0\n",
              "state           0\n",
              "country         0\n",
              "condition       0\n",
              "dtype: int64"
            ]
          },
          "metadata": {},
          "execution_count": 55
        }
      ]
    },
    {
      "cell_type": "code",
      "metadata": {
        "id": "_y76-yCqA26y",
        "colab": {
          "base_uri": "https://localhost:8080/"
        },
        "outputId": "b8b2d73e-7e23-42c3-ec9a-ce77842ddbd7"
      },
      "source": [
        "df['brand'].unique()"
      ],
      "execution_count": 56,
      "outputs": [
        {
          "output_type": "execute_result",
          "data": {
            "text/plain": [
              "array(['toyota', 'ford', 'dodge', 'chevrolet', 'gmc', 'chrysler', 'kia',\n",
              "       'buick', 'infiniti', 'mercedes-benz', 'jeep', 'bmw', 'cadillac',\n",
              "       'hyundai', 'mazda', 'honda', 'heartland', 'jaguar', 'acura',\n",
              "       'harley-davidson', 'audi', 'lincoln', 'lexus', 'nissan', 'land',\n",
              "       'maserati', 'peterbilt', 'ram'], dtype=object)"
            ]
          },
          "metadata": {},
          "execution_count": 56
        }
      ]
    },
    {
      "cell_type": "code",
      "metadata": {
        "id": "JofKpAIlA2-Y",
        "colab": {
          "base_uri": "https://localhost:8080/"
        },
        "outputId": "9a3d93a3-c218-4a8b-c662-c3ca37fbcf42"
      },
      "source": [
        "for model in df['model'].unique():\n",
        "  print(model)"
      ],
      "execution_count": 57,
      "outputs": [
        {
          "output_type": "stream",
          "name": "stdout",
          "text": [
            "cruiser\n",
            "se\n",
            "mpv\n",
            "door\n",
            "1500\n",
            "pk\n",
            "malibu\n",
            "coupe\n",
            "wagon\n",
            "forte\n",
            "encore\n",
            "sorento\n",
            "doors\n",
            "chassis\n",
            "q70\n",
            "camaro\n",
            "convertible\n",
            "vans\n",
            "srw\n",
            "compass\n",
            "enclave\n",
            "300\n",
            "cherokee\n",
            "pacifica\n",
            "x3\n",
            "equinox\n",
            "challenger\n",
            "m\n",
            "colorado\n",
            "focus\n",
            "durango\n",
            "escape\n",
            "charger\n",
            "explorer\n",
            "f-150\n",
            "3500\n",
            "caravan\n",
            "van\n",
            "dart\n",
            "2500\n",
            "esv\n",
            "cutaway\n",
            "el\n",
            "edge\n",
            "series\n",
            "flex\n",
            "srx\n",
            "cab\n",
            "pickup\n",
            "vehicl\n",
            "trax\n",
            "tahoe\n",
            "suburban\n",
            "cargo\n",
            "drw\n",
            "fiesta\n",
            "impala\n",
            "soul\n",
            "elantra\n",
            "pioneer\n",
            "trail\n",
            "traverse\n",
            "country\n",
            "sundance\n",
            "road/street\n",
            "nautilus\n",
            "gx\n",
            "q5\n",
            "gle\n",
            "sportage\n",
            "5\n",
            "sport\n",
            "discovery\n",
            "acadia\n",
            "ghibli\n",
            "glc\n",
            "e-class\n",
            "truck\n",
            "utility\n",
            "limited\n",
            "sl-class\n",
            "cx-3\n",
            "2500hd\n",
            "sonic\n",
            "corvette\n",
            "mdx\n",
            "xt5\n",
            "fusion\n",
            "mustang\n",
            "passenger\n",
            "volt\n",
            "spark\n",
            "cruze\n",
            "ld\n",
            "journey\n",
            "transit\n",
            "ranger\n",
            "taurus\n",
            "max\n",
            "energi\n",
            "expedition\n",
            "bus\n",
            "ecosport\n",
            "f-750\n",
            "d\n",
            "dr\n",
            "hybrid\n",
            "suv\n",
            "connect\n",
            "f-650\n",
            "sentra\n",
            "altima\n",
            "frontier\n",
            "rogue\n",
            "maxima\n",
            "versa\n",
            "note\n",
            "armada\n",
            "pathfinder\n",
            "titan\n",
            "sedan\n",
            "juke\n",
            "murano\n",
            "xterra\n",
            "kicks\n",
            "xd\n",
            "nvp\n"
          ]
        }
      ]
    },
    {
      "cell_type": "markdown",
      "metadata": {
        "id": "4rp941qgnQp-"
      },
      "source": [
        "##Average price of all vehicles"
      ]
    },
    {
      "cell_type": "code",
      "metadata": {
        "colab": {
          "base_uri": "https://localhost:8080/"
        },
        "id": "Mt4tcwE_nQEZ",
        "outputId": "1b23682d-86fd-4cfa-f281-f07b65edb9cb"
      },
      "source": [
        "df['price'].sum() / len(df['price'])"
      ],
      "execution_count": 58,
      "outputs": [
        {
          "output_type": "execute_result",
          "data": {
            "text/plain": [
              "18767.671468587436"
            ]
          },
          "metadata": {},
          "execution_count": 58
        }
      ]
    },
    {
      "cell_type": "markdown",
      "metadata": {
        "id": "jokWZgwyn2-y"
      },
      "source": [
        "##Average mileage of all vehicles"
      ]
    },
    {
      "cell_type": "code",
      "metadata": {
        "colab": {
          "base_uri": "https://localhost:8080/"
        },
        "id": "zwFuojtknQG5",
        "outputId": "96e7d22f-7ee0-4d19-d9c2-c08c4bc81374"
      },
      "source": [
        "df['mileage'].sum() // len(df['mileage'])"
      ],
      "execution_count": 59,
      "outputs": [
        {
          "output_type": "execute_result",
          "data": {
            "text/plain": [
              "52298.0"
            ]
          },
          "metadata": {},
          "execution_count": 59
        }
      ]
    },
    {
      "cell_type": "markdown",
      "metadata": {
        "id": "po-vznDzoXmz"
      },
      "source": [
        "##Max price of vehicle"
      ]
    },
    {
      "cell_type": "code",
      "metadata": {
        "colab": {
          "base_uri": "https://localhost:8080/"
        },
        "id": "dAltXSW_nQJv",
        "outputId": "55bb5ae0-259f-4db4-9bdd-ec134318d2e2"
      },
      "source": [
        "df['price'].max()"
      ],
      "execution_count": 60,
      "outputs": [
        {
          "output_type": "execute_result",
          "data": {
            "text/plain": [
              "84900"
            ]
          },
          "metadata": {},
          "execution_count": 60
        }
      ]
    },
    {
      "cell_type": "markdown",
      "metadata": {
        "id": "Z6IPkfSbpAi0"
      },
      "source": [
        "##Number of cars with brand 'ford'"
      ]
    },
    {
      "cell_type": "code",
      "metadata": {
        "colab": {
          "base_uri": "https://localhost:8080/"
        },
        "id": "va2EhR-EnQNP",
        "outputId": "85246c77-a127-420c-d62c-30f0d2a0067e"
      },
      "source": [
        "len(df[df['brand']=='ford'])"
      ],
      "execution_count": 62,
      "outputs": [
        {
          "output_type": "execute_result",
          "data": {
            "text/plain": [
              "1235"
            ]
          },
          "metadata": {},
          "execution_count": 62
        }
      ]
    },
    {
      "cell_type": "markdown",
      "metadata": {
        "id": "AHURGpBp1udP"
      },
      "source": [
        "##Number of cars of each brand"
      ]
    },
    {
      "cell_type": "code",
      "metadata": {
        "id": "XlRZnb97p1e7",
        "colab": {
          "base_uri": "https://localhost:8080/"
        },
        "outputId": "240c9fb1-3db2-49f0-a6b6-5d8edd528193"
      },
      "source": [
        "for brand in df['brand'].unique():\n",
        "  print (brand,\":\", len(df[df['brand'] == brand]))"
      ],
      "execution_count": 63,
      "outputs": [
        {
          "output_type": "stream",
          "name": "stdout",
          "text": [
            "toyota : 1\n",
            "ford : 1235\n",
            "dodge : 432\n",
            "chevrolet : 297\n",
            "gmc : 42\n",
            "chrysler : 18\n",
            "kia : 13\n",
            "buick : 13\n",
            "infiniti : 12\n",
            "mercedes-benz : 10\n",
            "jeep : 30\n",
            "bmw : 17\n",
            "cadillac : 10\n",
            "hyundai : 15\n",
            "mazda : 2\n",
            "honda : 12\n",
            "heartland : 5\n",
            "jaguar : 1\n",
            "acura : 3\n",
            "harley-davidson : 1\n",
            "audi : 4\n",
            "lincoln : 2\n",
            "lexus : 2\n",
            "nissan : 312\n",
            "land : 4\n",
            "maserati : 1\n",
            "peterbilt : 4\n",
            "ram : 1\n"
          ]
        }
      ]
    },
    {
      "cell_type": "markdown",
      "metadata": {
        "id": "LH3H-Ea_8KRr"
      },
      "source": [
        "##Number of cars of each brand in descending order"
      ]
    },
    {
      "cell_type": "code",
      "metadata": {
        "id": "JgBwUXQ-p1hR"
      },
      "source": [
        "data = []\n",
        "for brand in df['brand'].unique():\n",
        "  data.append([brand, len(df[df['brand'] == brand])])\n",
        "\n",
        "data = pd.DataFrame(data, columns=['brand', 'number'])\n",
        "data = data.sort_values(by = 'number', ascending=False)"
      ],
      "execution_count": 64,
      "outputs": []
    },
    {
      "cell_type": "code",
      "metadata": {
        "id": "ZKXOLXQyp1j0",
        "colab": {
          "base_uri": "https://localhost:8080/",
          "height": 927
        },
        "outputId": "96b45cbb-1ce3-4c21-e629-6bea3438dc42"
      },
      "source": [
        "data"
      ],
      "execution_count": 65,
      "outputs": [
        {
          "output_type": "execute_result",
          "data": {
            "text/html": [
              "<div>\n",
              "<style scoped>\n",
              "    .dataframe tbody tr th:only-of-type {\n",
              "        vertical-align: middle;\n",
              "    }\n",
              "\n",
              "    .dataframe tbody tr th {\n",
              "        vertical-align: top;\n",
              "    }\n",
              "\n",
              "    .dataframe thead th {\n",
              "        text-align: right;\n",
              "    }\n",
              "</style>\n",
              "<table border=\"1\" class=\"dataframe\">\n",
              "  <thead>\n",
              "    <tr style=\"text-align: right;\">\n",
              "      <th></th>\n",
              "      <th>brand</th>\n",
              "      <th>number</th>\n",
              "    </tr>\n",
              "  </thead>\n",
              "  <tbody>\n",
              "    <tr>\n",
              "      <th>1</th>\n",
              "      <td>ford</td>\n",
              "      <td>1235</td>\n",
              "    </tr>\n",
              "    <tr>\n",
              "      <th>2</th>\n",
              "      <td>dodge</td>\n",
              "      <td>432</td>\n",
              "    </tr>\n",
              "    <tr>\n",
              "      <th>23</th>\n",
              "      <td>nissan</td>\n",
              "      <td>312</td>\n",
              "    </tr>\n",
              "    <tr>\n",
              "      <th>3</th>\n",
              "      <td>chevrolet</td>\n",
              "      <td>297</td>\n",
              "    </tr>\n",
              "    <tr>\n",
              "      <th>4</th>\n",
              "      <td>gmc</td>\n",
              "      <td>42</td>\n",
              "    </tr>\n",
              "    <tr>\n",
              "      <th>10</th>\n",
              "      <td>jeep</td>\n",
              "      <td>30</td>\n",
              "    </tr>\n",
              "    <tr>\n",
              "      <th>5</th>\n",
              "      <td>chrysler</td>\n",
              "      <td>18</td>\n",
              "    </tr>\n",
              "    <tr>\n",
              "      <th>11</th>\n",
              "      <td>bmw</td>\n",
              "      <td>17</td>\n",
              "    </tr>\n",
              "    <tr>\n",
              "      <th>13</th>\n",
              "      <td>hyundai</td>\n",
              "      <td>15</td>\n",
              "    </tr>\n",
              "    <tr>\n",
              "      <th>6</th>\n",
              "      <td>kia</td>\n",
              "      <td>13</td>\n",
              "    </tr>\n",
              "    <tr>\n",
              "      <th>7</th>\n",
              "      <td>buick</td>\n",
              "      <td>13</td>\n",
              "    </tr>\n",
              "    <tr>\n",
              "      <th>8</th>\n",
              "      <td>infiniti</td>\n",
              "      <td>12</td>\n",
              "    </tr>\n",
              "    <tr>\n",
              "      <th>15</th>\n",
              "      <td>honda</td>\n",
              "      <td>12</td>\n",
              "    </tr>\n",
              "    <tr>\n",
              "      <th>12</th>\n",
              "      <td>cadillac</td>\n",
              "      <td>10</td>\n",
              "    </tr>\n",
              "    <tr>\n",
              "      <th>9</th>\n",
              "      <td>mercedes-benz</td>\n",
              "      <td>10</td>\n",
              "    </tr>\n",
              "    <tr>\n",
              "      <th>16</th>\n",
              "      <td>heartland</td>\n",
              "      <td>5</td>\n",
              "    </tr>\n",
              "    <tr>\n",
              "      <th>24</th>\n",
              "      <td>land</td>\n",
              "      <td>4</td>\n",
              "    </tr>\n",
              "    <tr>\n",
              "      <th>26</th>\n",
              "      <td>peterbilt</td>\n",
              "      <td>4</td>\n",
              "    </tr>\n",
              "    <tr>\n",
              "      <th>20</th>\n",
              "      <td>audi</td>\n",
              "      <td>4</td>\n",
              "    </tr>\n",
              "    <tr>\n",
              "      <th>18</th>\n",
              "      <td>acura</td>\n",
              "      <td>3</td>\n",
              "    </tr>\n",
              "    <tr>\n",
              "      <th>21</th>\n",
              "      <td>lincoln</td>\n",
              "      <td>2</td>\n",
              "    </tr>\n",
              "    <tr>\n",
              "      <th>22</th>\n",
              "      <td>lexus</td>\n",
              "      <td>2</td>\n",
              "    </tr>\n",
              "    <tr>\n",
              "      <th>14</th>\n",
              "      <td>mazda</td>\n",
              "      <td>2</td>\n",
              "    </tr>\n",
              "    <tr>\n",
              "      <th>25</th>\n",
              "      <td>maserati</td>\n",
              "      <td>1</td>\n",
              "    </tr>\n",
              "    <tr>\n",
              "      <th>0</th>\n",
              "      <td>toyota</td>\n",
              "      <td>1</td>\n",
              "    </tr>\n",
              "    <tr>\n",
              "      <th>19</th>\n",
              "      <td>harley-davidson</td>\n",
              "      <td>1</td>\n",
              "    </tr>\n",
              "    <tr>\n",
              "      <th>17</th>\n",
              "      <td>jaguar</td>\n",
              "      <td>1</td>\n",
              "    </tr>\n",
              "    <tr>\n",
              "      <th>27</th>\n",
              "      <td>ram</td>\n",
              "      <td>1</td>\n",
              "    </tr>\n",
              "  </tbody>\n",
              "</table>\n",
              "</div>"
            ],
            "text/plain": [
              "              brand  number\n",
              "1              ford    1235\n",
              "2             dodge     432\n",
              "23           nissan     312\n",
              "3         chevrolet     297\n",
              "4               gmc      42\n",
              "10             jeep      30\n",
              "5          chrysler      18\n",
              "11              bmw      17\n",
              "13          hyundai      15\n",
              "6               kia      13\n",
              "7             buick      13\n",
              "8          infiniti      12\n",
              "15            honda      12\n",
              "12         cadillac      10\n",
              "9     mercedes-benz      10\n",
              "16        heartland       5\n",
              "24             land       4\n",
              "26        peterbilt       4\n",
              "20             audi       4\n",
              "18            acura       3\n",
              "21          lincoln       2\n",
              "22            lexus       2\n",
              "14            mazda       2\n",
              "25         maserati       1\n",
              "0            toyota       1\n",
              "19  harley-davidson       1\n",
              "17           jaguar       1\n",
              "27              ram       1"
            ]
          },
          "metadata": {},
          "execution_count": 65
        }
      ]
    },
    {
      "cell_type": "markdown",
      "metadata": {
        "id": "XTxXcW8G9Y08"
      },
      "source": [
        "##Sorting cars based on color in descending order"
      ]
    },
    {
      "cell_type": "code",
      "metadata": {
        "id": "jeYb-u9Zp1nD",
        "colab": {
          "base_uri": "https://localhost:8080/",
          "height": 534
        },
        "outputId": "edd22f81-2639-4e09-fef6-9d83d3abd9f0"
      },
      "source": [
        "data = []\n",
        "for clr in df['color'].unique():\n",
        "  data.append([clr, len(df[df['color'] == clr])])\n",
        "data = pd.DataFrame(data, columns=['Color', 'Number'])\n",
        "data = data.sort_values(by = 'Number', ascending = False)\n",
        "data.plot(x='Color', y='Number', kind='bar', figsize = (15,5))"
      ],
      "execution_count": 66,
      "outputs": [
        {
          "output_type": "execute_result",
          "data": {
            "text/plain": [
              "<matplotlib.axes._subplots.AxesSubplot at 0x7f812c9a4d90>"
            ]
          },
          "metadata": {},
          "execution_count": 66
        },
        {
          "output_type": "display_data",
          "data": {
            "image/png": "[encoded data removed]",
            "text/plain": [
              "<Figure size 1080x360 with 1 Axes>"
            ]
          },
          "metadata": {
            "needs_background": "light"
          }
        }
      ]
    },
    {
      "cell_type": "code",
      "metadata": {
        "colab": {
          "base_uri": "https://localhost:8080/",
          "height": 1000
        },
        "id": "Nw4_2kUN-Gg5",
        "outputId": "45d01014-7cc4-41bf-c148-01b8c41679f4"
      },
      "source": [
        "data"
      ],
      "execution_count": 67,
      "outputs": [
        {
          "output_type": "execute_result",
          "data": {
            "text/html": [
              "<div>\n",
              "<style scoped>\n",
              "    .dataframe tbody tr th:only-of-type {\n",
              "        vertical-align: middle;\n",
              "    }\n",
              "\n",
              "    .dataframe tbody tr th {\n",
              "        vertical-align: top;\n",
              "    }\n",
              "\n",
              "    .dataframe thead th {\n",
              "        text-align: right;\n",
              "    }\n",
              "</style>\n",
              "<table border=\"1\" class=\"dataframe\">\n",
              "  <thead>\n",
              "    <tr style=\"text-align: right;\">\n",
              "      <th></th>\n",
              "      <th>Color</th>\n",
              "      <th>Number</th>\n",
              "    </tr>\n",
              "  </thead>\n",
              "  <tbody>\n",
              "    <tr>\n",
              "      <th>4</th>\n",
              "      <td>white</td>\n",
              "      <td>707</td>\n",
              "    </tr>\n",
              "    <tr>\n",
              "      <th>0</th>\n",
              "      <td>black</td>\n",
              "      <td>516</td>\n",
              "    </tr>\n",
              "    <tr>\n",
              "      <th>5</th>\n",
              "      <td>gray</td>\n",
              "      <td>395</td>\n",
              "    </tr>\n",
              "    <tr>\n",
              "      <th>1</th>\n",
              "      <td>silver</td>\n",
              "      <td>300</td>\n",
              "    </tr>\n",
              "    <tr>\n",
              "      <th>3</th>\n",
              "      <td>red</td>\n",
              "      <td>192</td>\n",
              "    </tr>\n",
              "    <tr>\n",
              "      <th>2</th>\n",
              "      <td>blue</td>\n",
              "      <td>151</td>\n",
              "    </tr>\n",
              "    <tr>\n",
              "      <th>8</th>\n",
              "      <td>no_color</td>\n",
              "      <td>61</td>\n",
              "    </tr>\n",
              "    <tr>\n",
              "      <th>13</th>\n",
              "      <td>green</td>\n",
              "      <td>24</td>\n",
              "    </tr>\n",
              "    <tr>\n",
              "      <th>6</th>\n",
              "      <td>orange</td>\n",
              "      <td>20</td>\n",
              "    </tr>\n",
              "    <tr>\n",
              "      <th>9</th>\n",
              "      <td>gold</td>\n",
              "      <td>19</td>\n",
              "    </tr>\n",
              "    <tr>\n",
              "      <th>10</th>\n",
              "      <td>charcoal</td>\n",
              "      <td>18</td>\n",
              "    </tr>\n",
              "    <tr>\n",
              "      <th>7</th>\n",
              "      <td>brown</td>\n",
              "      <td>15</td>\n",
              "    </tr>\n",
              "    <tr>\n",
              "      <th>17</th>\n",
              "      <td>yellow</td>\n",
              "      <td>9</td>\n",
              "    </tr>\n",
              "    <tr>\n",
              "      <th>31</th>\n",
              "      <td>magnetic metallic</td>\n",
              "      <td>6</td>\n",
              "    </tr>\n",
              "    <tr>\n",
              "      <th>30</th>\n",
              "      <td>shadow black</td>\n",
              "      <td>5</td>\n",
              "    </tr>\n",
              "    <tr>\n",
              "      <th>18</th>\n",
              "      <td>color:</td>\n",
              "      <td>5</td>\n",
              "    </tr>\n",
              "    <tr>\n",
              "      <th>12</th>\n",
              "      <td>beige</td>\n",
              "      <td>5</td>\n",
              "    </tr>\n",
              "    <tr>\n",
              "      <th>36</th>\n",
              "      <td>oxford white</td>\n",
              "      <td>4</td>\n",
              "    </tr>\n",
              "    <tr>\n",
              "      <th>32</th>\n",
              "      <td>ingot silver metallic</td>\n",
              "      <td>4</td>\n",
              "    </tr>\n",
              "    <tr>\n",
              "      <th>44</th>\n",
              "      <td>super black</td>\n",
              "      <td>3</td>\n",
              "    </tr>\n",
              "    <tr>\n",
              "      <th>22</th>\n",
              "      <td>billet silver metallic clearcoat</td>\n",
              "      <td>3</td>\n",
              "    </tr>\n",
              "    <tr>\n",
              "      <th>27</th>\n",
              "      <td>triple yellow tri-coat</td>\n",
              "      <td>3</td>\n",
              "    </tr>\n",
              "    <tr>\n",
              "      <th>45</th>\n",
              "      <td>cayenne red</td>\n",
              "      <td>2</td>\n",
              "    </tr>\n",
              "    <tr>\n",
              "      <th>39</th>\n",
              "      <td>white platinum tri-coat metallic</td>\n",
              "      <td>2</td>\n",
              "    </tr>\n",
              "    <tr>\n",
              "      <th>29</th>\n",
              "      <td>off-white</td>\n",
              "      <td>2</td>\n",
              "    </tr>\n",
              "    <tr>\n",
              "      <th>26</th>\n",
              "      <td>ruby red metallic tinted clearcoat</td>\n",
              "      <td>2</td>\n",
              "    </tr>\n",
              "    <tr>\n",
              "      <th>41</th>\n",
              "      <td>tuxedo black metallic</td>\n",
              "      <td>2</td>\n",
              "    </tr>\n",
              "    <tr>\n",
              "      <th>23</th>\n",
              "      <td>black clearcoat</td>\n",
              "      <td>2</td>\n",
              "    </tr>\n",
              "    <tr>\n",
              "      <th>21</th>\n",
              "      <td>bright white clearcoat</td>\n",
              "      <td>2</td>\n",
              "    </tr>\n",
              "    <tr>\n",
              "      <th>46</th>\n",
              "      <td>morningsky blue</td>\n",
              "      <td>1</td>\n",
              "    </tr>\n",
              "    <tr>\n",
              "      <th>40</th>\n",
              "      <td>guard</td>\n",
              "      <td>1</td>\n",
              "    </tr>\n",
              "    <tr>\n",
              "      <th>47</th>\n",
              "      <td>pearl white</td>\n",
              "      <td>1</td>\n",
              "    </tr>\n",
              "    <tr>\n",
              "      <th>42</th>\n",
              "      <td>tan</td>\n",
              "      <td>1</td>\n",
              "    </tr>\n",
              "    <tr>\n",
              "      <th>43</th>\n",
              "      <td>burgundy</td>\n",
              "      <td>1</td>\n",
              "    </tr>\n",
              "    <tr>\n",
              "      <th>38</th>\n",
              "      <td>ingot silver</td>\n",
              "      <td>1</td>\n",
              "    </tr>\n",
              "    <tr>\n",
              "      <th>37</th>\n",
              "      <td>lightning blue</td>\n",
              "      <td>1</td>\n",
              "    </tr>\n",
              "    <tr>\n",
              "      <th>24</th>\n",
              "      <td>jazz blue pearlcoat</td>\n",
              "      <td>1</td>\n",
              "    </tr>\n",
              "    <tr>\n",
              "      <th>35</th>\n",
              "      <td>kona blue metallic</td>\n",
              "      <td>1</td>\n",
              "    </tr>\n",
              "    <tr>\n",
              "      <th>34</th>\n",
              "      <td>royal crimson metallic tinted clearcoat</td>\n",
              "      <td>1</td>\n",
              "    </tr>\n",
              "    <tr>\n",
              "      <th>33</th>\n",
              "      <td>ruby red</td>\n",
              "      <td>1</td>\n",
              "    </tr>\n",
              "    <tr>\n",
              "      <th>28</th>\n",
              "      <td>competition orange</td>\n",
              "      <td>1</td>\n",
              "    </tr>\n",
              "    <tr>\n",
              "      <th>25</th>\n",
              "      <td>purple</td>\n",
              "      <td>1</td>\n",
              "    </tr>\n",
              "    <tr>\n",
              "      <th>20</th>\n",
              "      <td>toreador red</td>\n",
              "      <td>1</td>\n",
              "    </tr>\n",
              "    <tr>\n",
              "      <th>19</th>\n",
              "      <td>light blue</td>\n",
              "      <td>1</td>\n",
              "    </tr>\n",
              "    <tr>\n",
              "      <th>16</th>\n",
              "      <td>phantom black</td>\n",
              "      <td>1</td>\n",
              "    </tr>\n",
              "    <tr>\n",
              "      <th>15</th>\n",
              "      <td>maroon</td>\n",
              "      <td>1</td>\n",
              "    </tr>\n",
              "    <tr>\n",
              "      <th>14</th>\n",
              "      <td>dark blue</td>\n",
              "      <td>1</td>\n",
              "    </tr>\n",
              "    <tr>\n",
              "      <th>11</th>\n",
              "      <td>turquoise</td>\n",
              "      <td>1</td>\n",
              "    </tr>\n",
              "    <tr>\n",
              "      <th>48</th>\n",
              "      <td>glacier white</td>\n",
              "      <td>1</td>\n",
              "    </tr>\n",
              "  </tbody>\n",
              "</table>\n",
              "</div>"
            ],
            "text/plain": [
              "                                      Color  Number\n",
              "4                                     white     707\n",
              "0                                     black     516\n",
              "5                                      gray     395\n",
              "1                                    silver     300\n",
              "3                                       red     192\n",
              "2                                      blue     151\n",
              "8                                  no_color      61\n",
              "13                                    green      24\n",
              "6                                    orange      20\n",
              "9                                      gold      19\n",
              "10                                 charcoal      18\n",
              "7                                     brown      15\n",
              "17                                   yellow       9\n",
              "31                        magnetic metallic       6\n",
              "30                             shadow black       5\n",
              "18                                   color:       5\n",
              "12                                    beige       5\n",
              "36                             oxford white       4\n",
              "32                    ingot silver metallic       4\n",
              "44                              super black       3\n",
              "22         billet silver metallic clearcoat       3\n",
              "27                   triple yellow tri-coat       3\n",
              "45                              cayenne red       2\n",
              "39         white platinum tri-coat metallic       2\n",
              "29                                off-white       2\n",
              "26       ruby red metallic tinted clearcoat       2\n",
              "41                    tuxedo black metallic       2\n",
              "23                          black clearcoat       2\n",
              "21                   bright white clearcoat       2\n",
              "46                          morningsky blue       1\n",
              "40                                    guard       1\n",
              "47                              pearl white       1\n",
              "42                                      tan       1\n",
              "43                                 burgundy       1\n",
              "38                             ingot silver       1\n",
              "37                           lightning blue       1\n",
              "24                      jazz blue pearlcoat       1\n",
              "35                       kona blue metallic       1\n",
              "34  royal crimson metallic tinted clearcoat       1\n",
              "33                                 ruby red       1\n",
              "28                       competition orange       1\n",
              "25                                   purple       1\n",
              "20                             toreador red       1\n",
              "19                               light blue       1\n",
              "16                            phantom black       1\n",
              "15                                   maroon       1\n",
              "14                                dark blue       1\n",
              "11                                turquoise       1\n",
              "48                            glacier white       1"
            ]
          },
          "metadata": {},
          "execution_count": 67
        }
      ]
    },
    {
      "cell_type": "markdown",
      "metadata": {
        "id": "GA_UNJUm_XvA"
      },
      "source": [
        "##Number of cars sold each year in descending order"
      ]
    },
    {
      "cell_type": "code",
      "metadata": {
        "id": "U1yjD4t8_auZ",
        "colab": {
          "base_uri": "https://localhost:8080/",
          "height": 351
        },
        "outputId": "7bcc5b19-3edc-4702-f429-842e8a6dd9bc"
      },
      "source": [
        "data = []\n",
        "\n",
        "for year in df['year'].unique():\n",
        "  data.append([year, len(df[df['year']==year])])\n",
        "data = pd.DataFrame(data, columns=['Year', 'Number'])\n",
        "data = data.sort_values(by = 'Number', ascending = False)\n",
        "data.plot(x='Year', y='Number', figsize = (10,5))"
      ],
      "execution_count": 68,
      "outputs": [
        {
          "output_type": "execute_result",
          "data": {
            "text/plain": [
              "<matplotlib.axes._subplots.AxesSubplot at 0x7f812ccb94d0>"
            ]
          },
          "metadata": {},
          "execution_count": 68
        },
        {
          "output_type": "display_data",
          "data": {
            "image/png": "[encoded data removed]",
            "text/plain": [
              "<Figure size 720x360 with 1 Axes>"
            ]
          },
          "metadata": {
            "needs_background": "light"
          }
        }
      ]
    },
    {
      "cell_type": "code",
      "metadata": {
        "id": "jiPgzX2n_axo",
        "colab": {
          "base_uri": "https://localhost:8080/",
          "height": 990
        },
        "outputId": "51944d4e-13d6-4d42-b9d0-36aafd0c4a9f"
      },
      "source": [
        "data"
      ],
      "execution_count": 69,
      "outputs": [
        {
          "output_type": "execute_result",
          "data": {
            "text/html": [
              "<div>\n",
              "<style scoped>\n",
              "    .dataframe tbody tr th:only-of-type {\n",
              "        vertical-align: middle;\n",
              "    }\n",
              "\n",
              "    .dataframe tbody tr th {\n",
              "        vertical-align: top;\n",
              "    }\n",
              "\n",
              "    .dataframe thead th {\n",
              "        text-align: right;\n",
              "    }\n",
              "</style>\n",
              "<table border=\"1\" class=\"dataframe\">\n",
              "  <thead>\n",
              "    <tr style=\"text-align: right;\">\n",
              "      <th></th>\n",
              "      <th>Year</th>\n",
              "      <th>Number</th>\n",
              "    </tr>\n",
              "  </thead>\n",
              "  <tbody>\n",
              "    <tr>\n",
              "      <th>13</th>\n",
              "      <td>2019</td>\n",
              "      <td>892</td>\n",
              "    </tr>\n",
              "    <tr>\n",
              "      <th>2</th>\n",
              "      <td>2018</td>\n",
              "      <td>395</td>\n",
              "    </tr>\n",
              "    <tr>\n",
              "      <th>5</th>\n",
              "      <td>2017</td>\n",
              "      <td>377</td>\n",
              "    </tr>\n",
              "    <tr>\n",
              "      <th>10</th>\n",
              "      <td>2016</td>\n",
              "      <td>203</td>\n",
              "    </tr>\n",
              "    <tr>\n",
              "      <th>8</th>\n",
              "      <td>2015</td>\n",
              "      <td>196</td>\n",
              "    </tr>\n",
              "    <tr>\n",
              "      <th>3</th>\n",
              "      <td>2014</td>\n",
              "      <td>104</td>\n",
              "    </tr>\n",
              "    <tr>\n",
              "      <th>7</th>\n",
              "      <td>2013</td>\n",
              "      <td>86</td>\n",
              "    </tr>\n",
              "    <tr>\n",
              "      <th>18</th>\n",
              "      <td>2012</td>\n",
              "      <td>72</td>\n",
              "    </tr>\n",
              "    <tr>\n",
              "      <th>9</th>\n",
              "      <td>2020</td>\n",
              "      <td>48</td>\n",
              "    </tr>\n",
              "    <tr>\n",
              "      <th>1</th>\n",
              "      <td>2011</td>\n",
              "      <td>23</td>\n",
              "    </tr>\n",
              "    <tr>\n",
              "      <th>0</th>\n",
              "      <td>2008</td>\n",
              "      <td>18</td>\n",
              "    </tr>\n",
              "    <tr>\n",
              "      <th>4</th>\n",
              "      <td>2010</td>\n",
              "      <td>13</td>\n",
              "    </tr>\n",
              "    <tr>\n",
              "      <th>6</th>\n",
              "      <td>2009</td>\n",
              "      <td>11</td>\n",
              "    </tr>\n",
              "    <tr>\n",
              "      <th>12</th>\n",
              "      <td>2003</td>\n",
              "      <td>9</td>\n",
              "    </tr>\n",
              "    <tr>\n",
              "      <th>19</th>\n",
              "      <td>2006</td>\n",
              "      <td>8</td>\n",
              "    </tr>\n",
              "    <tr>\n",
              "      <th>22</th>\n",
              "      <td>2004</td>\n",
              "      <td>6</td>\n",
              "    </tr>\n",
              "    <tr>\n",
              "      <th>20</th>\n",
              "      <td>2007</td>\n",
              "      <td>6</td>\n",
              "    </tr>\n",
              "    <tr>\n",
              "      <th>17</th>\n",
              "      <td>2005</td>\n",
              "      <td>6</td>\n",
              "    </tr>\n",
              "    <tr>\n",
              "      <th>16</th>\n",
              "      <td>2001</td>\n",
              "      <td>5</td>\n",
              "    </tr>\n",
              "    <tr>\n",
              "      <th>21</th>\n",
              "      <td>1998</td>\n",
              "      <td>4</td>\n",
              "    </tr>\n",
              "    <tr>\n",
              "      <th>15</th>\n",
              "      <td>2000</td>\n",
              "      <td>4</td>\n",
              "    </tr>\n",
              "    <tr>\n",
              "      <th>14</th>\n",
              "      <td>2002</td>\n",
              "      <td>2</td>\n",
              "    </tr>\n",
              "    <tr>\n",
              "      <th>23</th>\n",
              "      <td>1994</td>\n",
              "      <td>2</td>\n",
              "    </tr>\n",
              "    <tr>\n",
              "      <th>24</th>\n",
              "      <td>1997</td>\n",
              "      <td>2</td>\n",
              "    </tr>\n",
              "    <tr>\n",
              "      <th>25</th>\n",
              "      <td>1996</td>\n",
              "      <td>2</td>\n",
              "    </tr>\n",
              "    <tr>\n",
              "      <th>11</th>\n",
              "      <td>1973</td>\n",
              "      <td>1</td>\n",
              "    </tr>\n",
              "    <tr>\n",
              "      <th>26</th>\n",
              "      <td>1999</td>\n",
              "      <td>1</td>\n",
              "    </tr>\n",
              "    <tr>\n",
              "      <th>27</th>\n",
              "      <td>1984</td>\n",
              "      <td>1</td>\n",
              "    </tr>\n",
              "    <tr>\n",
              "      <th>28</th>\n",
              "      <td>1995</td>\n",
              "      <td>1</td>\n",
              "    </tr>\n",
              "    <tr>\n",
              "      <th>29</th>\n",
              "      <td>1993</td>\n",
              "      <td>1</td>\n",
              "    </tr>\n",
              "  </tbody>\n",
              "</table>\n",
              "</div>"
            ],
            "text/plain": [
              "    Year  Number\n",
              "13  2019     892\n",
              "2   2018     395\n",
              "5   2017     377\n",
              "10  2016     203\n",
              "8   2015     196\n",
              "3   2014     104\n",
              "7   2013      86\n",
              "18  2012      72\n",
              "9   2020      48\n",
              "1   2011      23\n",
              "0   2008      18\n",
              "4   2010      13\n",
              "6   2009      11\n",
              "12  2003       9\n",
              "19  2006       8\n",
              "22  2004       6\n",
              "20  2007       6\n",
              "17  2005       6\n",
              "16  2001       5\n",
              "21  1998       4\n",
              "15  2000       4\n",
              "14  2002       2\n",
              "23  1994       2\n",
              "24  1997       2\n",
              "25  1996       2\n",
              "11  1973       1\n",
              "26  1999       1\n",
              "27  1984       1\n",
              "28  1995       1\n",
              "29  1993       1"
            ]
          },
          "metadata": {},
          "execution_count": 69
        }
      ]
    },
    {
      "cell_type": "markdown",
      "metadata": {
        "id": "L2SLNFOHPYDU"
      },
      "source": [
        "##Average price with respect to brand"
      ]
    },
    {
      "cell_type": "code",
      "metadata": {
        "id": "_AFs6y7n_a1Q"
      },
      "source": [
        "x = df.groupby('brand').mean()['price'].sort_values(ascending=False)"
      ],
      "execution_count": 70,
      "outputs": []
    },
    {
      "cell_type": "code",
      "metadata": {
        "id": "RjdWKa6w-GjV",
        "colab": {
          "base_uri": "https://localhost:8080/"
        },
        "outputId": "f0a9d701-ed79-4275-c8d0-e5d553d65cd3"
      },
      "source": [
        "x"
      ],
      "execution_count": 71,
      "outputs": [
        {
          "output_type": "execute_result",
          "data": {
            "text/plain": [
              "brand\n",
              "harley-davidson    54680.000000\n",
              "lexus              33220.000000\n",
              "maserati           30300.000000\n",
              "land               28900.000000\n",
              "mercedes-benz      28704.000000\n",
              "bmw                26397.058824\n",
              "cadillac           24941.000000\n",
              "ford               21666.888259\n",
              "buick              19715.769231\n",
              "chevrolet          18669.952862\n",
              "lincoln            18150.000000\n",
              "dodge              17781.988426\n",
              "audi               13981.250000\n",
              "chrysler           13686.111111\n",
              "infiniti           13098.333333\n",
              "nissan             12065.820513\n",
              "kia                11123.846154\n",
              "ram                11050.000000\n",
              "jeep               10933.833333\n",
              "gmc                10657.380952\n",
              "mazda               8000.000000\n",
              "acura               7266.666667\n",
              "toyota              6300.000000\n",
              "honda               6127.500000\n",
              "hyundai             5203.200000\n",
              "heartland           2966.000000\n",
              "jaguar              2800.000000\n",
              "peterbilt            400.000000\n",
              "Name: price, dtype: float64"
            ]
          },
          "metadata": {},
          "execution_count": 71
        }
      ]
    },
    {
      "cell_type": "code",
      "metadata": {
        "id": "-MaRCIPx-GmR",
        "colab": {
          "base_uri": "https://localhost:8080/",
          "height": 422
        },
        "outputId": "eced22f5-e604-4018-d02f-0fdb64ec6d71"
      },
      "source": [
        "x.plot.bar(figsize=(15, 5))"
      ],
      "execution_count": 72,
      "outputs": [
        {
          "output_type": "execute_result",
          "data": {
            "text/plain": [
              "<matplotlib.axes._subplots.AxesSubplot at 0x7f812c7c7710>"
            ]
          },
          "metadata": {},
          "execution_count": 72
        },
        {
          "output_type": "display_data",
          "data": {
            "image/png": "[encoded data removed]",
            "text/plain": [
              "<Figure size 1080x360 with 1 Axes>"
            ]
          },
          "metadata": {
            "needs_background": "light"
          }
        }
      ]
    },
    {
      "cell_type": "markdown",
      "metadata": {
        "id": "TlAFbXu-Qz0A"
      },
      "source": [
        "##State having most expensive cars(average)"
      ]
    },
    {
      "cell_type": "code",
      "metadata": {
        "colab": {
          "base_uri": "https://localhost:8080/"
        },
        "id": "ht7gobXkQ1lS",
        "outputId": "08b76579-ff8e-45a2-b41a-d007c2f1c176"
      },
      "source": [
        "df.groupby('state').mean()['price'].sort_values(ascending=False).head(1)"
      ],
      "execution_count": 73,
      "outputs": [
        {
          "output_type": "execute_result",
          "data": {
            "text/plain": [
              "state\n",
              "kentucky    44969.444444\n",
              "Name: price, dtype: float64"
            ]
          },
          "metadata": {},
          "execution_count": 73
        }
      ]
    },
    {
      "cell_type": "code",
      "metadata": {
        "colab": {
          "base_uri": "https://localhost:8080/",
          "height": 418
        },
        "id": "xi_4RECjR_4k",
        "outputId": "7f8495e7-2d96-4021-ca3b-9aea177f2f7f"
      },
      "source": [
        "df.groupby('state').mean()['price'].sort_values(ascending=False).plot.bar(figsize=(15, 5))"
      ],
      "execution_count": 74,
      "outputs": [
        {
          "output_type": "execute_result",
          "data": {
            "text/plain": [
              "<matplotlib.axes._subplots.AxesSubplot at 0x7f812c6c5150>"
            ]
          },
          "metadata": {},
          "execution_count": 74
        },
        {
          "output_type": "display_data",
          "data": {
            "image/png": "[encoded data removed]",
            "text/plain": [
              "<Figure size 1080x360 with 1 Axes>"
            ]
          },
          "metadata": {
            "needs_background": "light"
          }
        }
      ]
    }
  ]
}