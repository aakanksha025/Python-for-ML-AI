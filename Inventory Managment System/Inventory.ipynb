{
  "nbformat": 4,
  "nbformat_minor": 0,
  "metadata": {
    "colab": {
      "name": "Inventory.ipynb",
      "provenance": []
    },
    "kernelspec": {
      "name": "python3",
      "display_name": "Python 3"
    },
    "language_info": {
      "name": "python"
    }
  },
  "cells": [
    {
      "cell_type": "code",
      "metadata": {
        "id": "SM8ORMJFGtk3"
      },
      "source": [
        "record = {\"1000\": {'name': 'Choco Cake', 'quantity': 25, 'price': 100},\n",
        "           \"1001\": {'name': 'Dairymilk', 'quantity': 34, 'price': 150},\n",
        "           \"1002\": {'name': 'Milky bar', 'quantity': 400, 'price': 15},\n",
        "           \"1003\": {'name': 'Ferroro Rocher', 'quantity': 60, 'price': 600},\n",
        "           \"1004\": {'name': 'Lollipop', 'quantity': 80, 'price': 5},\n",
        "           \"1005\": {'name': 'Twix', 'quantity': 50, 'price': 95},\n",
        "           \"1006\": {'name': 'Mars', 'quantity': 40, 'price': 150},\n",
        "           \"1007\": {'name': 'Snickers', 'quantity': 70, 'price': 30}, \n",
        "           \"1008\": {'name': 'Nutella', 'quantity': 50, 'price': 100},\n",
        "           \"1009\": {'name': 'Kinderjoy', 'quantity': 700, 'price': 40},\n",
        "           \"1010\": {'name': 'Dark chocolate', 'quantity': 85, 'price': 98},\n",
        "           \"1011\": {'name': 'Kit Kat', 'quantity': 300, 'price': 32}, \n",
        "           \"1012\": {'name': '5 star', 'quantity': 400, 'price': 23},\n",
        "           \"1013\": {'name': 'Gems', 'quantity': 124, 'price': 15},\n",
        "           \"1014\": {'name': 'Munch', 'quantity': 180, 'price': 5},\n",
        "           \"1015\": {'name': 'Bournville', 'quantity': 300, 'price':100},\n",
        "           \"1016\": {'name': 'Milk Cake', 'quantity': 99, 'price':800},\n",
        "           \"1017\": {'name': 'Candy', 'quantity': 100, 'price':30}}"
      ],
      "execution_count": 22,
      "outputs": []
    },
    {
      "cell_type": "code",
      "metadata": {
        "id": "sZVWNVq_Rayr"
      },
      "source": [
        "import json\n",
        "js = json.dumps(record)"
      ],
      "execution_count": 23,
      "outputs": []
    },
    {
      "cell_type": "code",
      "metadata": {
        "id": "s1HGpYLhSA0E"
      },
      "source": [
        "fd = open(\"record.json\", \"w\")\n",
        "fd.write(js)\n",
        "fd.close()"
      ],
      "execution_count": 24,
      "outputs": []
    },
    {
      "cell_type": "code",
      "metadata": {
        "id": "hj_7txlVSA3k"
      },
      "source": [
        "fd = open(\"record.json\", \"r\")\n",
        "t = fd.read()\n",
        "fd.close()"
      ],
      "execution_count": 25,
      "outputs": []
    },
    {
      "cell_type": "code",
      "metadata": {
        "id": "3wszNZEaSA_Y"
      },
      "source": [
        "fd = open(\"record.json\", \"w\")\n",
        "fd.write(t)\n",
        "fd.close()"
      ],
      "execution_count": 26,
      "outputs": []
    },
    {
      "cell_type": "code",
      "metadata": {
        "id": "TX3cyK5USBB-"
      },
      "source": [
        "sales = {}\n",
        "\n",
        "sales = json.dumps(sales)\n",
        "\n",
        "fd = open(\"sales.json\", \"w\")\n",
        "fd.write(sales)\n",
        "fd.close()"
      ],
      "execution_count": 27,
      "outputs": []
    },
    {
      "cell_type": "code",
      "metadata": {
        "id": "eb8ZcOqASBFk"
      },
      "source": [
        "import json\n",
        "import time"
      ],
      "execution_count": 28,
      "outputs": []
    },
    {
      "cell_type": "code",
      "metadata": {
        "id": "nMN5o41NRa1k"
      },
      "source": [
        "fd = open(\"record.json\", \"r\")\n",
        "t = fd.read()\n",
        "fd.close()\n",
        "dct = json.loads(t)"
      ],
      "execution_count": 29,
      "outputs": []
    },
    {
      "cell_type": "code",
      "metadata": {
        "id": "ncxsdhplTyo4"
      },
      "source": [
        "fd = open(\"sales.json\", \"r\")\n",
        "s = fd.read()\n",
        "fd.close()\n",
        "sales = json.loads(s)"
      ],
      "execution_count": 30,
      "outputs": []
    },
    {
      "cell_type": "code",
      "metadata": {
        "colab": {
          "base_uri": "https://localhost:8080/"
        },
        "id": "hy6vxfenTyuE",
        "outputId": "5fd0e23c-5f5a-47d8-a0c4-3bdb5bb33993"
      },
      "source": [
        "print(\"**************    MENU     ***************\")\n",
        "for i in dct.keys():\n",
        "  print(i, dct[i])\n",
        "\n",
        "print(\"******************************************\\n\")\n",
        "ui_prod  = str(input(\"Enter the product_Id: \"))\n",
        "ui_quant = int(input(\"Enter the quantity: \"))\n",
        "\n",
        "\n",
        "if (ui_prod in dct.keys()):                                                     \n",
        "    if (dct[ui_prod]['quantity'] >= ui_quant):                                        \n",
        "      print(\"Name:\",dct[ui_prod]['name'])\n",
        "      print(\"Price:\",dct[ui_prod]['price'])\n",
        "      print(\"Quantity:\", ui_quant)\n",
        "      print(\"------------------------------\")\n",
        "      print(\"Billing Amount:\", dct[ui_prod]['price'] * ui_quant)\n",
        "\n",
        "      dct[ui_prod]['quantity'] = dct[ui_prod]['quantity'] - ui_quant                        \n",
        "\n",
        "      sales[str(len(sales)+1)] = {'prod_id' : ui_prod,                          \n",
        "                                  \"time_pr\" :  time.ctime(), \n",
        "                                  'bill' : dct[ui_prod]['price'] * ui_quant, \n",
        "                                  'quantity' : ui_quant, \n",
        "                                  'price' : dct[ui_prod]['price'], \n",
        "                                  'pr_name' : dct[ui_prod]['name']}\n",
        "\n",
        "\n",
        "    else:                                                                       \n",
        "      print(\"Sorry, We are not having that much of quantity.\")\n",
        "      print(\"We're only having\",dct[ui_prod]['quantity'],\"quantity.\")\n",
        "      print(\"Would you like to purchase or not (Y/N)\")\n",
        "      ch = str(input(\"Y/N\"))\n",
        "      if (ch == \"Y\"):                                                          \n",
        "        print(\"Name:\",dct[ui_prod]['name'])\n",
        "        print(\"Price:\",dct[ui_prod]['price'])\n",
        "        print(\"Quantity:\", dct[ui_prod]['quantity'])\n",
        "        print(\"------------------------------\")\n",
        "        print(\"Billing Amount:\", dct[ui_prod]['price'] * dct[ui_prod]['quantity'])\n",
        "\n",
        "        dct[ui_prod]['quantity'] = 0                                                  \n",
        "        sales[str(len(sales)+1)] = {'prod_id' : ui_prod,                        \n",
        "                                    \"time_pr\" :  time.ctime(), \n",
        "                                    'bill' : dct[ui_prod]['price'] * dct[ui_prod]['quantity'], \n",
        "                                    'quantity' : dct[ui_prod]['quantity'], \n",
        "                                    'price' : dct[ui_prod]['price'], \n",
        "                                    'pr_name' : dct[ui_prod]['name']}\n",
        "\n",
        "      else:                                                                     \n",
        "        print(\"Thankyou!\")\n",
        "\n",
        "else:                                                                           \n",
        "  print(\"------------------------------\")\n",
        "  print(\"Product doesn't exist!\")\n",
        "  print(\"Please enter a valid product id\")\n",
        "  print(\"------------------------------\")\n",
        "\n",
        "\n",
        "\n",
        "sl = json.dumps(sales)                                                          \n",
        "fd = open('sales.json','w')\n",
        "fd.write(sl)\n",
        "fd.close()\n",
        "\n",
        "print(\"------------------------------\")\n",
        "print(\"Data Updated in Sales File!\")\n",
        "js = json.dumps(dct)                                                            \n",
        "fd = open('record.json','w')\n",
        "fd.write(js)\n",
        "fd.close()\n",
        "\n",
        "print(\"Data Updated in Inventory File!\")"
      ],
      "execution_count": 31,
      "outputs": [
        {
          "output_type": "stream",
          "name": "stdout",
          "text": [
            "**************    MENU     ***************\n",
            "1000 {'name': 'Choco Cake', 'quantity': 25, 'price': 100}\n",
            "1001 {'name': 'Dairymilk', 'quantity': 34, 'price': 150}\n",
            "1002 {'name': 'Milky bar', 'quantity': 400, 'price': 15}\n",
            "1003 {'name': 'Ferroro Rocher', 'quantity': 60, 'price': 600}\n",
            "1004 {'name': 'Lollipop', 'quantity': 80, 'price': 5}\n",
            "1005 {'name': 'Twix', 'quantity': 50, 'price': 95}\n",
            "1006 {'name': 'Mars', 'quantity': 40, 'price': 150}\n",
            "1007 {'name': 'Snickers', 'quantity': 70, 'price': 30}\n",
            "1008 {'name': 'Nutella', 'quantity': 50, 'price': 100}\n",
            "1009 {'name': 'Kinderjoy', 'quantity': 700, 'price': 40}\n",
            "1010 {'name': 'Dark chocolate', 'quantity': 85, 'price': 98}\n",
            "1011 {'name': 'Kit Kat', 'quantity': 300, 'price': 32}\n",
            "1012 {'name': '5 star', 'quantity': 400, 'price': 23}\n",
            "1013 {'name': 'Gems', 'quantity': 124, 'price': 15}\n",
            "1014 {'name': 'Munch', 'quantity': 180, 'price': 5}\n",
            "1015 {'name': 'Bournville', 'quantity': 300, 'price': 100}\n",
            "1016 {'name': 'Milk Cake', 'quantity': 99, 'price': 800}\n",
            "1017 {'name': 'Candy', 'quantity': 100, 'price': 30}\n",
            "******************************************\n",
            "\n",
            "Enter the product_Id: 1002\n",
            "Enter the quantity: 20\n",
            "Name: Milky bar\n",
            "Price: 15\n",
            "Quantity: 20\n",
            "------------------------------\n",
            "Billing Amount: 300\n",
            "------------------------------\n",
            "Data Updated in Sales File!\n",
            "Data Updated in Inventory File!\n"
          ]
        }
      ]
    },
    {
      "cell_type": "code",
      "metadata": {
        "colab": {
          "base_uri": "https://localhost:8080/"
        },
        "id": "LjbpNJHnTywf",
        "outputId": "e4d66552-d0be-4e52-aeb4-5b898751cfae"
      },
      "source": [
        "fd = open(\"record.json\", \"r\")\n",
        "t = fd.read()\n",
        "print (t)\n",
        "fd.close()"
      ],
      "execution_count": 32,
      "outputs": [
        {
          "output_type": "stream",
          "name": "stdout",
          "text": [
            "{\"1000\": {\"name\": \"Choco Cake\", \"quantity\": 25, \"price\": 100}, \"1001\": {\"name\": \"Dairymilk\", \"quantity\": 34, \"price\": 150}, \"1002\": {\"name\": \"Milky bar\", \"quantity\": 380, \"price\": 15}, \"1003\": {\"name\": \"Ferroro Rocher\", \"quantity\": 60, \"price\": 600}, \"1004\": {\"name\": \"Lollipop\", \"quantity\": 80, \"price\": 5}, \"1005\": {\"name\": \"Twix\", \"quantity\": 50, \"price\": 95}, \"1006\": {\"name\": \"Mars\", \"quantity\": 40, \"price\": 150}, \"1007\": {\"name\": \"Snickers\", \"quantity\": 70, \"price\": 30}, \"1008\": {\"name\": \"Nutella\", \"quantity\": 50, \"price\": 100}, \"1009\": {\"name\": \"Kinderjoy\", \"quantity\": 700, \"price\": 40}, \"1010\": {\"name\": \"Dark chocolate\", \"quantity\": 85, \"price\": 98}, \"1011\": {\"name\": \"Kit Kat\", \"quantity\": 300, \"price\": 32}, \"1012\": {\"name\": \"5 star\", \"quantity\": 400, \"price\": 23}, \"1013\": {\"name\": \"Gems\", \"quantity\": 124, \"price\": 15}, \"1014\": {\"name\": \"Munch\", \"quantity\": 180, \"price\": 5}, \"1015\": {\"name\": \"Bournville\", \"quantity\": 300, \"price\": 100}, \"1016\": {\"name\": \"Milk Cake\", \"quantity\": 99, \"price\": 800}, \"1017\": {\"name\": \"Candy\", \"quantity\": 100, \"price\": 30}}\n"
          ]
        }
      ]
    },
    {
      "cell_type": "code",
      "metadata": {
        "colab": {
          "base_uri": "https://localhost:8080/"
        },
        "id": "shOTohAbTyzX",
        "outputId": "e4a26357-5fc9-485e-e50c-d894af491bf2"
      },
      "source": [
        "fd = open(\"sales.json\", \"r\")\n",
        "s = fd.read()\n",
        "print (s)\n",
        "fd.close()"
      ],
      "execution_count": 33,
      "outputs": [
        {
          "output_type": "stream",
          "name": "stdout",
          "text": [
            "{\"1\": {\"prod_id\": \"1002\", \"time_pr\": \"Thu Sep 16 20:42:35 2021\", \"bill\": 300, \"quantity\": 20, \"price\": 15, \"pr_name\": \"Milky bar\"}}\n"
          ]
        }
      ]
    }
  ]
}